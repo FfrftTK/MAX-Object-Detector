{
 "cells": [
  {
   "cell_type": "code",
   "execution_count": 48,
   "metadata": {},
   "outputs": [],
   "source": [
    "from requests import post\n",
    "import json\n",
    "from PIL import Image, ImageDraw, ImageFont\n",
    "from glob import glob"
   ]
  },
  {
   "cell_type": "code",
   "execution_count": 49,
   "metadata": {},
   "outputs": [],
   "source": [
    "threshold = '0.1'\n",
    "request_uri = 'http://localhost:5000/model/predict?threshold=%s'%threshold\n",
    "file = glob('animal2.jpg')[0]\n",
    "image = {'image': open(file, mode=\"rb\").read()}\n",
    "res = post(request_uri, files=image)"
   ]
  },
  {
   "cell_type": "code",
   "execution_count": 53,
   "metadata": {},
   "outputs": [],
   "source": [
    "def convert_rect_size(im, box):\n",
    "    #box = [ymin xmin ymax xmax] -> [xmin, ymin, xmax, ymax]\n",
    "    return [box[1]*im.width, box[0]*im.height, box[3]*im.width, box[2]*im.height]"
   ]
  },
  {
   "cell_type": "code",
   "execution_count": 54,
   "metadata": {},
   "outputs": [],
   "source": [
    "def draw_detection_box(im, prediction, label=True, probability=True):\n",
    "    box = convert_rect_size(im, prediction[\"detection_box\"])\n",
    "    font = ImageFont.truetype('/Library/Fonts/Rockwell.ttc', int(im.width*0.03))\n",
    "    details = ''\n",
    "    if(label):\n",
    "        details += prediction['label'] + ' '\n",
    "#         draw.text([box[0], box[1]], prediction['label'], font=font)\n",
    "        if(probability):\n",
    "            details += str(prediction['probability']) + '\\n'\n",
    "#             draw.text([box[0], box[1]], prediction['label'], font=font)\n",
    "    draw.text([box[0], box[1]], details, font=font)\n",
    "    draw.rectangle(box)"
   ]
  },
  {
   "cell_type": "code",
   "execution_count": 55,
   "metadata": {},
   "outputs": [
    {
     "name": "stdout",
     "output_type": "stream",
     "text": [
      "{'status': 'ok', 'predictions': [{'label': 'elephant', 'label_id': '22', 'detection_box': [0.506112277507782, 0.5532516241073608, 0.8901309370994568, 0.8648308515548706], 'probability': 0.9169389605522156}, {'label': 'giraffe', 'label_id': '25', 'detection_box': [0.239858478307724, 0.31791332364082336, 0.9512101411819458, 0.5724232196807861], 'probability': 0.64214688539505}, {'label': 'elephant', 'label_id': '22', 'detection_box': [0.650526762008667, 0.22211571037769318, 0.9582861661911011, 0.38459277153015137], 'probability': 0.43782666325569153}, {'label': 'cow', 'label_id': '21', 'detection_box': [0.6673985719680786, 0.6955255270004272, 0.9321885108947754, 0.8803212642669678], 'probability': 0.28148606419563293}, {'label': 'elephant', 'label_id': '22', 'detection_box': [0.27606961131095886, 0.3173978924751282, 0.9595345258712769, 0.5708280801773071], 'probability': 0.20570389926433563}, {'label': 'sheep', 'label_id': '20', 'detection_box': [0.7140544056892395, 0.6894859671592712, 0.9389618039131165, 0.8692219853401184], 'probability': 0.1366744190454483}, {'label': 'sheep', 'label_id': '20', 'detection_box': [0.6524322032928467, 0.21639393270015717, 0.955135703086853, 0.3846471309661865], 'probability': 0.10818375647068024}]}\n"
     ]
    }
   ],
   "source": [
    "im = Image.open(file)\n",
    "draw = ImageDraw.Draw(im)\n",
    "data = res.json()\n",
    "print(data)\n",
    "for prediction in data[\"predictions\"]:\n",
    "    draw_detection_box(im, prediction)\n",
    "im.show()"
   ]
  },
  {
   "cell_type": "code",
   "execution_count": null,
   "metadata": {},
   "outputs": [],
   "source": []
  }
 ],
 "metadata": {
  "kernelspec": {
   "display_name": "Python [default]",
   "language": "python",
   "name": "python3"
  },
  "language_info": {
   "codemirror_mode": {
    "name": "ipython",
    "version": 3
   },
   "file_extension": ".py",
   "mimetype": "text/x-python",
   "name": "python",
   "nbconvert_exporter": "python",
   "pygments_lexer": "ipython3",
   "version": "3.5.6"
  }
 },
 "nbformat": 4,
 "nbformat_minor": 2
}
